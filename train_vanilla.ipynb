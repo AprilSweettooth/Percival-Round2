{
 "cells": [
  {
   "cell_type": "code",
   "execution_count": 16,
   "metadata": {
    "collapsed": false
   },
   "outputs": [],
   "source": [
    "# For tips on running notebooks in Google Colab, see\n",
    "# https://pytorch.org/tutorials/beginner/colab\n",
    "%matplotlib inline"
   ]
  },
  {
   "cell_type": "markdown",
   "metadata": {},
   "source": [
    "Training a Classifier\n",
    "=====================\n",
    "\n",
    "This is it. You have seen how to define neural networks, compute loss\n",
    "and make updates to the weights of the network.\n",
    "\n",
    "Now you might be thinking,\n",
    "\n",
    "What about data?\n",
    "----------------\n",
    "\n",
    "Generally, when you have to deal with image, text, audio or video data,\n",
    "you can use standard python packages that load data into a numpy array.\n",
    "Then you can convert this array into a `torch.*Tensor`.\n",
    "\n",
    "-   For images, packages such as Pillow, OpenCV are useful\n",
    "-   For audio, packages such as scipy and librosa\n",
    "-   For text, either raw Python or Cython based loading, or NLTK and\n",
    "    SpaCy are useful\n",
    "\n",
    "Specifically for vision, we have created a package called `torchvision`,\n",
    "that has data loaders for common datasets such as ImageNet, CIFAR10,\n",
    "MNIST, etc. and data transformers for images, viz.,\n",
    "`torchvision.datasets` and `torch.utils.data.DataLoader`.\n",
    "\n",
    "This provides a huge convenience and avoids writing boilerplate code.\n",
    "\n",
    "For this tutorial, we will use the CIFAR10 dataset. It has the classes:\n",
    "'airplane', 'automobile', 'bird', 'cat', 'deer', 'dog', 'frog', 'horse',\n",
    "'ship', 'truck'. The images in CIFAR-10 are of size 3x32x32, i.e.\n",
    "3-channel color images of 32x32 pixels in size.\n",
    "\n",
    "![cifar10](https://pytorch.org/tutorials/_static/img/cifar10.png)\n",
    "\n",
    "Training an image classifier\n",
    "----------------------------\n",
    "\n",
    "We will do the following steps in order:\n",
    "\n",
    "1.  Load and normalize the CIFAR10 training and test datasets using\n",
    "    `torchvision`\n",
    "2.  Define a Convolutional Neural Network\n",
    "3.  Define a loss function\n",
    "4.  Train the network on the training data\n",
    "5.  Test the network on the test data\n",
    "\n",
    "### 1. Load and normalize CIFAR10\n",
    "\n",
    "Using `torchvision`, it's extremely easy to load CIFAR10.\n"
   ]
  },
  {
   "cell_type": "code",
   "execution_count": 17,
   "metadata": {
    "collapsed": false
   },
   "outputs": [],
   "source": [
    "import torch\n",
    "import torchvision\n",
    "import torchvision.transforms as transforms"
   ]
  },
  {
   "cell_type": "markdown",
   "metadata": {},
   "source": [
    "The output of torchvision datasets are PILImage images of range \\[0,\n",
    "1\\]. We transform them to Tensors of normalized range \\[-1, 1\\].\n"
   ]
  },
  {
   "cell_type": "markdown",
   "metadata": {},
   "source": [
    "<div style=\"background-color: #54c7ec; color: #fff; font-weight: 700; padding-left: 10px; padding-top: 5px; padding-bottom: 5px\"><strong>NOTE:</strong></div>\n",
    "\n",
    "<div style=\"background-color: #f3f4f7; padding-left: 10px; padding-top: 10px; padding-bottom: 10px; padding-right: 10px\">\n",
    "\n",
    "<p>If running on Windows and you get a BrokenPipeError, try settingthe num_worker of torch.utils.data.DataLoader() to 0.</p>\n",
    "\n",
    "</div>\n",
    "\n"
   ]
  },
  {
   "cell_type": "code",
   "execution_count": 18,
   "metadata": {
    "collapsed": false
   },
   "outputs": [
    {
     "name": "stdout",
     "output_type": "stream",
     "text": [
      "Files already downloaded and verified\n",
      "Files already downloaded and verified\n"
     ]
    }
   ],
   "source": [
    "transform = transforms.Compose(\n",
    "    [transforms.ToTensor(),\n",
    "     transforms.Normalize((0.5, 0.5, 0.5), (0.5, 0.5, 0.5))])\n",
    "\n",
    "batch_size = 4\n",
    "\n",
    "trainset = torchvision.datasets.CIFAR10(root='./data', train=True,\n",
    "                                        download=True, transform=transform)\n",
    "trainloader = torch.utils.data.DataLoader(trainset, batch_size=batch_size,\n",
    "                                          shuffle=True, num_workers=2)\n",
    "\n",
    "testset = torchvision.datasets.CIFAR10(root='./data', train=False,\n",
    "                                       download=True, transform=transform)\n",
    "testloader = torch.utils.data.DataLoader(testset, batch_size=batch_size,\n",
    "                                         shuffle=False, num_workers=2)\n",
    "\n",
    "classes = ('plane', 'car', 'bird', 'cat',\n",
    "           'deer', 'dog', 'frog', 'horse', 'ship', 'truck')"
   ]
  },
  {
   "cell_type": "code",
   "execution_count": 19,
   "metadata": {},
   "outputs": [],
   "source": [
    "# for images, labels in trainloader:  \n",
    "#     print('Image batch dimensions:', images.shape)\n",
    "#     print('Image label dimensions:', labels.shape)\n",
    "#     break"
   ]
  },
  {
   "cell_type": "markdown",
   "metadata": {},
   "source": [
    "Let us show some of the training images, for fun.\n"
   ]
  },
  {
   "cell_type": "code",
   "execution_count": 20,
   "metadata": {
    "collapsed": false
   },
   "outputs": [
    {
     "data": {
      "image/png": "[encoded data removed]",
      "text/plain": [
       "<Figure size 640x480 with 1 Axes>"
      ]
     },
     "metadata": {},
     "output_type": "display_data"
    },
    {
     "name": "stdout",
     "output_type": "stream",
     "text": [
      "horse deer  car   ship \n"
     ]
    }
   ],
   "source": [
    "import matplotlib.pyplot as plt\n",
    "import numpy as np\n",
    "\n",
    "# functions to show an image\n",
    "\n",
    "\n",
    "def imshow(img):\n",
    "    img = img / 2 + 0.5     # unnormalize\n",
    "    npimg = img.numpy()\n",
    "    plt.imshow(np.transpose(npimg, (1, 2, 0)))\n",
    "    plt.show()\n",
    "\n",
    "\n",
    "# get some random training images\n",
    "dataiter = iter(trainloader)\n",
    "images, labels = next(dataiter)\n",
    "\n",
    "# show images\n",
    "imshow(torchvision.utils.make_grid(images))\n",
    "# print labels\n",
    "print(' '.join(f'{classes[labels[j]]:5s}' for j in range(batch_size)))"
   ]
  },
  {
   "cell_type": "markdown",
   "metadata": {},
   "source": [
    "2. Define a Convolutional Neural Network\n",
    "========================================\n",
    "\n",
    "Copy the neural network from the Neural Networks section before and\n",
    "modify it to take 3-channel images (instead of 1-channel images as it\n",
    "was defined).\n"
   ]
  },
  {
   "cell_type": "code",
   "execution_count": 21,
   "metadata": {
    "collapsed": false
   },
   "outputs": [],
   "source": [
    "import torch.nn as nn\n",
    "import torch.nn.functional as F\n",
    "\n",
    "\n",
    "class Net(nn.Module):\n",
    "    # def __init__(self):\n",
    "    #     super().__init__()\n",
    "    #     self.conv1 = nn.Conv2d(3, 6, 5)\n",
    "    #     self.pool = nn.MaxPool2d(2, 2)\n",
    "    #     self.conv2 = nn.Conv2d(6, 16, 5)\n",
    "    #     self.fc1 = nn.Linear(16 * 5 * 5, 512)\n",
    "    #     self.fc2 = nn.Linear(512, 10)\n",
    "\n",
    "    # def forward(self, x):\n",
    "    #     x = self.pool(F.relu(self.conv1(x)))\n",
    "    #     x = self.pool(F.relu(self.conv2(x)))\n",
    "    #     x = torch.flatten(x, 1) # flatten all dimensions except batch\n",
    "    #     x = F.relu(self.fc1(x))\n",
    "    #     x = self.fc2(x)\n",
    "    #     return x\n",
    "    def __init__(self):\n",
    "        super().__init__()\n",
    "        self.conv1 = nn.Conv2d(3, 6, 7)\n",
    "        self.pool = nn.MaxPool2d(3, 3)\n",
    "        self.fc1 = nn.Linear(384, 512)\n",
    "        self.fc2 = nn.Linear(512, 10)\n",
    "\n",
    "    def forward(self, x):\n",
    "        x = self.pool(F.relu(self.conv1(x)))\n",
    "        x = torch.flatten(x, 1) # flatten all dimensions except batch\n",
    "        x = F.relu(self.fc1(x))\n",
    "        x = self.fc2(x)\n",
    "        return x\n",
    "\n",
    "net = Net()"
   ]
  },
  {
   "cell_type": "markdown",
   "metadata": {},
   "source": [
    "3. Define a Loss function and optimizer\n",
    "=======================================\n",
    "\n",
    "Let\\'s use a Classification Cross-Entropy loss and SGD with momentum.\n"
   ]
  },
  {
   "cell_type": "code",
   "execution_count": 22,
   "metadata": {
    "collapsed": false
   },
   "outputs": [],
   "source": [
    "import torch.optim as optim\n",
    "\n",
    "criterion = nn.CrossEntropyLoss()\n",
    "optimizer = optim.SGD(net.parameters(), lr=0.001, momentum=0.9)"
   ]
  },
  {
   "cell_type": "markdown",
   "metadata": {},
   "source": [
    "4. Train the network\n",
    "====================\n",
    "\n",
    "This is when things start to get interesting. We simply have to loop\n",
    "over our data iterator, and feed the inputs to the network and optimize.\n"
   ]
  },
  {
   "cell_type": "code",
   "execution_count": 23,
   "metadata": {
    "collapsed": false
   },
   "outputs": [
    {
     "name": "stdout",
     "output_type": "stream",
     "text": [
      "[1,  2000] loss: 1.921\n",
      "[1,  4000] loss: 1.607\n",
      "[1,  6000] loss: 1.529\n",
      "[1,  8000] loss: 1.464\n",
      "[1, 10000] loss: 1.424\n",
      "[1, 12000] loss: 1.401\n",
      "[2,  2000] loss: 1.300\n",
      "[2,  4000] loss: 1.306\n",
      "[2,  6000] loss: 1.257\n",
      "[2,  8000] loss: 1.277\n",
      "[2, 10000] loss: 1.227\n",
      "[2, 12000] loss: 1.223\n",
      "[3,  2000] loss: 1.134\n",
      "[3,  4000] loss: 1.124\n",
      "[3,  6000] loss: 1.129\n",
      "[3,  8000] loss: 1.116\n",
      "[3, 10000] loss: 1.132\n",
      "[3, 12000] loss: 1.109\n",
      "[4,  2000] loss: 1.003\n",
      "[4,  4000] loss: 1.024\n",
      "[4,  6000] loss: 1.035\n",
      "[4,  8000] loss: 1.013\n",
      "[4, 10000] loss: 1.013\n",
      "[4, 12000] loss: 1.026\n",
      "[5,  2000] loss: 0.884\n",
      "[5,  4000] loss: 0.927\n",
      "[5,  6000] loss: 0.923\n",
      "[5,  8000] loss: 0.944\n",
      "[5, 10000] loss: 0.936\n",
      "[5, 12000] loss: 0.944\n",
      "[6,  2000] loss: 0.787\n",
      "[6,  4000] loss: 0.808\n",
      "[6,  6000] loss: 0.848\n",
      "[6,  8000] loss: 0.874\n",
      "[6, 10000] loss: 0.855\n",
      "[6, 12000] loss: 0.884\n",
      "[7,  2000] loss: 0.704\n",
      "[7,  4000] loss: 0.751\n",
      "[7,  6000] loss: 0.764\n",
      "[7,  8000] loss: 0.772\n",
      "[7, 10000] loss: 0.787\n",
      "[7, 12000] loss: 0.790\n",
      "[8,  2000] loss: 0.628\n",
      "[8,  4000] loss: 0.645\n",
      "[8,  6000] loss: 0.674\n",
      "[8,  8000] loss: 0.681\n",
      "[8, 10000] loss: 0.716\n",
      "[8, 12000] loss: 0.757\n",
      "[9,  2000] loss: 0.557\n",
      "[9,  4000] loss: 0.564\n",
      "[9,  6000] loss: 0.613\n",
      "[9,  8000] loss: 0.652\n",
      "[9, 10000] loss: 0.649\n",
      "[9, 12000] loss: 0.673\n",
      "[10,  2000] loss: 0.481\n",
      "[10,  4000] loss: 0.510\n",
      "[10,  6000] loss: 0.551\n",
      "[10,  8000] loss: 0.548\n",
      "[10, 10000] loss: 0.580\n",
      "[10, 12000] loss: 0.608\n",
      "[11,  2000] loss: 0.397\n",
      "[11,  4000] loss: 0.440\n",
      "[11,  6000] loss: 0.493\n",
      "[11,  8000] loss: 0.515\n",
      "[11, 10000] loss: 0.533\n",
      "[11, 12000] loss: 0.569\n",
      "[12,  2000] loss: 0.370\n",
      "[12,  4000] loss: 0.374\n",
      "[12,  6000] loss: 0.431\n",
      "[12,  8000] loss: 0.473\n",
      "[12, 10000] loss: 0.504\n",
      "[12, 12000] loss: 0.517\n",
      "[13,  2000] loss: 0.311\n",
      "[13,  4000] loss: 0.349\n",
      "[13,  6000] loss: 0.364\n",
      "[13,  8000] loss: 0.399\n",
      "[13, 10000] loss: 0.438\n",
      "[13, 12000] loss: 0.476\n",
      "[14,  2000] loss: 0.285\n",
      "[14,  4000] loss: 0.303\n",
      "[14,  6000] loss: 0.334\n",
      "[14,  8000] loss: 0.384\n",
      "[14, 10000] loss: 0.422\n",
      "[14, 12000] loss: 0.415\n",
      "[15,  2000] loss: 0.265\n",
      "[15,  4000] loss: 0.253\n",
      "[15,  6000] loss: 0.307\n",
      "[15,  8000] loss: 0.323\n",
      "[15, 10000] loss: 0.374\n",
      "[15, 12000] loss: 0.416\n",
      "[16,  2000] loss: 0.246\n",
      "[16,  4000] loss: 0.245\n",
      "[16,  6000] loss: 0.274\n",
      "[16,  8000] loss: 0.288\n",
      "[16, 10000] loss: 0.352\n",
      "[16, 12000] loss: 0.365\n",
      "[17,  2000] loss: 0.221\n",
      "[17,  4000] loss: 0.239\n",
      "[17,  6000] loss: 0.257\n",
      "[17,  8000] loss: 0.271\n",
      "[17, 10000] loss: 0.311\n",
      "[17, 12000] loss: 0.345\n",
      "[18,  2000] loss: 0.205\n",
      "[18,  4000] loss: 0.216\n",
      "[18,  6000] loss: 0.218\n",
      "[18,  8000] loss: 0.255\n",
      "[18, 10000] loss: 0.309\n",
      "[18, 12000] loss: 0.332\n",
      "[19,  2000] loss: 0.169\n",
      "[19,  4000] loss: 0.193\n",
      "[19,  6000] loss: 0.219\n",
      "[19,  8000] loss: 0.257\n",
      "[19, 10000] loss: 0.292\n",
      "[19, 12000] loss: 0.303\n",
      "[20,  2000] loss: 0.167\n",
      "[20,  4000] loss: 0.164\n",
      "[20,  6000] loss: 0.203\n",
      "[20,  8000] loss: 0.243\n",
      "[20, 10000] loss: 0.259\n",
      "[20, 12000] loss: 0.294\n",
      "Finished Training\n"
     ]
    }
   ],
   "source": [
    "for epoch in range(20):  # loop over the dataset multiple times\n",
    "\n",
    "    running_loss = 0.0\n",
    "    for i, data in enumerate(trainloader, 0):\n",
    "        # get the inputs; data is a list of [inputs, labels]\n",
    "        inputs, labels = data\n",
    "\n",
    "        # zero the parameter gradients\n",
    "        optimizer.zero_grad()\n",
    "\n",
    "        # forward + backward + optimize\n",
    "        outputs = net(inputs)\n",
    "        loss = criterion(outputs, labels)\n",
    "        loss.backward()\n",
    "        optimizer.step()\n",
    "\n",
    "        # print statistics\n",
    "        running_loss += loss.item()\n",
    "        if i % 2000 == 1999:    # print every 2000 mini-batches\n",
    "            print(f'[{epoch + 1}, {i + 1:5d}] loss: {running_loss / 2000:.3f}')\n",
    "            running_loss = 0.0\n",
    "\n",
    "print('Finished Training')"
   ]
  },
  {
   "cell_type": "markdown",
   "metadata": {},
   "source": [
    "Let\\'s quickly save our trained model:\n"
   ]
  },
  {
   "cell_type": "code",
   "execution_count": 24,
   "metadata": {
    "collapsed": false
   },
   "outputs": [],
   "source": [
    "PATH = './cifar_vanilla.pth'\n",
    "torch.save(net.state_dict(), PATH)"
   ]
  },
  {
   "cell_type": "markdown",
   "metadata": {},
   "source": [
    "See [here](https://pytorch.org/docs/stable/notes/serialization.html) for\n",
    "more details on saving PyTorch models.\n",
    "\n",
    "5. Test the network on the test data\n",
    "====================================\n",
    "\n",
    "We have trained the network for 2 passes over the training dataset. But\n",
    "we need to check if the network has learnt anything at all.\n",
    "\n",
    "We will check this by predicting the class label that the neural network\n",
    "outputs, and checking it against the ground-truth. If the prediction is\n",
    "correct, we add the sample to the list of correct predictions.\n",
    "\n",
    "Okay, first step. Let us display an image from the test set to get\n",
    "familiar.\n"
   ]
  },
  {
   "cell_type": "code",
   "execution_count": 25,
   "metadata": {
    "collapsed": false
   },
   "outputs": [
    {
     "data": {
      "image/png": "[encoded data removed]",
      "text/plain": [
       "<Figure size 640x480 with 1 Axes>"
      ]
     },
     "metadata": {},
     "output_type": "display_data"
    },
    {
     "name": "stdout",
     "output_type": "stream",
     "text": [
      "GroundTruth:  cat   ship  ship  plane\n"
     ]
    }
   ],
   "source": [
    "dataiter = iter(testloader)\n",
    "images, labels = next(dataiter)\n",
    "\n",
    "# print images\n",
    "imshow(torchvision.utils.make_grid(images))\n",
    "print('GroundTruth: ', ' '.join(f'{classes[labels[j]]:5s}' for j in range(4)))"
   ]
  },
  {
   "cell_type": "markdown",
   "metadata": {},
   "source": [
    "Next, let\\'s load back in our saved model (note: saving and re-loading\n",
    "the model wasn\\'t necessary here, we only did it to illustrate how to do\n",
    "so):\n"
   ]
  },
  {
   "cell_type": "code",
   "execution_count": 26,
   "metadata": {
    "collapsed": false
   },
   "outputs": [
    {
     "data": {
      "text/plain": [
       "<All keys matched successfully>"
      ]
     },
     "execution_count": 26,
     "metadata": {},
     "output_type": "execute_result"
    }
   ],
   "source": [
    "net = Net()\n",
    "net.load_state_dict(torch.load(PATH, weights_only=True))"
   ]
  },
  {
   "cell_type": "markdown",
   "metadata": {},
   "source": [
    "Okay, now let us see what the neural network thinks these examples above\n",
    "are:\n"
   ]
  },
  {
   "cell_type": "code",
   "execution_count": 27,
   "metadata": {
    "collapsed": false
   },
   "outputs": [],
   "source": [
    "outputs = net(images)"
   ]
  },
  {
   "cell_type": "markdown",
   "metadata": {},
   "source": [
    "The outputs are energies for the 10 classes. The higher the energy for a\n",
    "class, the more the network thinks that the image is of the particular\n",
    "class. So, let\\'s get the index of the highest energy:\n"
   ]
  },
  {
   "cell_type": "code",
   "execution_count": 28,
   "metadata": {
    "collapsed": false
   },
   "outputs": [
    {
     "name": "stdout",
     "output_type": "stream",
     "text": [
      "Predicted:  cat   ship  ship  plane\n"
     ]
    }
   ],
   "source": [
    "_, predicted = torch.max(outputs, 1)\n",
    "\n",
    "print('Predicted: ', ' '.join(f'{classes[predicted[j]]:5s}'\n",
    "                              for j in range(4)))"
   ]
  },
  {
   "cell_type": "markdown",
   "metadata": {},
   "source": [
    "The results seem pretty good.\n",
    "\n",
    "Let us look at how the network performs on the whole dataset.\n"
   ]
  },
  {
   "cell_type": "code",
   "execution_count": 31,
   "metadata": {
    "collapsed": false
   },
   "outputs": [
    {
     "name": "stdout",
     "output_type": "stream",
     "text": [
      "Accuracy of the network on the 10000 test images: 58 %\n"
     ]
    }
   ],
   "source": [
    "correct = 0\n",
    "total = 0\n",
    "# since we're not training, we don't need to calculate the gradients for our outputs\n",
    "with torch.no_grad():\n",
    "    for data in testloader:\n",
    "        images, labels = data\n",
    "        # calculate outputs by running images through the network\n",
    "        outputs = net(images)\n",
    "        # the class with the highest energy is what we choose as prediction\n",
    "        _, predicted = torch.max(outputs, 1)\n",
    "        total += labels.size(0)\n",
    "        correct += (predicted == labels).sum().item()\n",
    "\n",
    "print(f'Accuracy of the network on the 10000 test images: {100 * correct // total} %')"
   ]
  },
  {
   "cell_type": "markdown",
   "metadata": {},
   "source": [
    "That looks way better than chance, which is 10% accuracy (randomly\n",
    "picking a class out of 10 classes). Seems like the network learnt\n",
    "something.\n",
    "\n",
    "Hmmm, what are the classes that performed well, and the classes that did\n",
    "not perform well:\n"
   ]
  },
  {
   "cell_type": "code",
   "execution_count": 30,
   "metadata": {
    "collapsed": false
   },
   "outputs": [
    {
     "name": "stdout",
     "output_type": "stream",
     "text": [
      "Accuracy for class: plane is 62.5 %\n",
      "Accuracy for class: car   is 69.3 %\n",
      "Accuracy for class: bird  is 42.8 %\n",
      "Accuracy for class: cat   is 48.1 %\n",
      "Accuracy for class: deer  is 46.6 %\n",
      "Accuracy for class: dog   is 42.7 %\n",
      "Accuracy for class: frog  is 65.7 %\n",
      "Accuracy for class: horse is 61.8 %\n",
      "Accuracy for class: ship  is 74.8 %\n",
      "Accuracy for class: truck is 71.7 %\n"
     ]
    }
   ],
   "source": [
    "# prepare to count predictions for each class\n",
    "correct_pred = {classname: 0 for classname in classes}\n",
    "total_pred = {classname: 0 for classname in classes}\n",
    "\n",
    "# again no gradients needed\n",
    "with torch.no_grad():\n",
    "    for data in testloader:\n",
    "        images, labels = data\n",
    "        outputs = net(images)\n",
    "        _, predictions = torch.max(outputs, 1)\n",
    "        # collect the correct predictions for each class\n",
    "        for label, prediction in zip(labels, predictions):\n",
    "            if label == prediction:\n",
    "                correct_pred[classes[label]] += 1\n",
    "            total_pred[classes[label]] += 1\n",
    "\n",
    "\n",
    "# print accuracy for each class\n",
    "for classname, correct_count in correct_pred.items():\n",
    "    accuracy = 100 * float(correct_count) / total_pred[classname]\n",
    "    print(f'Accuracy for class: {classname:5s} is {accuracy:.1f} %')"
   ]
  }
 ],
 "metadata": {
  "kernelspec": {
   "display_name": "Python 3",
   "language": "python",
   "name": "python3"
  },
  "language_info": {
   "codemirror_mode": {
    "name": "ipython",
    "version": 3
   },
   "file_extension": ".py",
   "mimetype": "text/x-python",
   "name": "python",
   "nbconvert_exporter": "python",
   "pygments_lexer": "ipython3",
   "version": "3.12.5"
  }
 },
 "nbformat": 4,
 "nbformat_minor": 0
}
